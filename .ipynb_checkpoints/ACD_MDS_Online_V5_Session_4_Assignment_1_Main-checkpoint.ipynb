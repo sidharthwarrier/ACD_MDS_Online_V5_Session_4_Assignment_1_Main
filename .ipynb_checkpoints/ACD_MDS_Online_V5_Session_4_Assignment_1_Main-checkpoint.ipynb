{
 "cells": [
  {
   "cell_type": "markdown",
   "metadata": {},
   "source": [
    "<p>1.1 Write a Python Program(with class concepts) to find the area of the triangle using the below\n",
    "formula.</p>\n",
    "<p>area = (s*(s-a)*(s-b)*(s-c)) ** 0.5</p>\n",
    "<p>Function to take the length of the sides of triangle from user should be defined in the parent\n",
    "class and function to calculate the area should be defined in subclass.</p>"
   ]
  },
  {
   "cell_type": "code",
   "execution_count": 83,
   "metadata": {},
   "outputs": [
    {
     "name": "stdout",
     "output_type": "stream",
     "text": [
      "Enter Length of side 1:10\n",
      "Enter Length of side 2:15\n",
      "Enter Length of side 3:14\n",
      "Area of triangale is : 1.5242867376933096 unitsqr\n"
     ]
    }
   ],
   "source": [
    "#Define class to get sides\n",
    "class GetAllSides():\n",
    "    def __init__(self):\n",
    "        pass\n",
    "    def getsides(self):\n",
    "        self.a=float(input(\"Enter Length of side 1:\"))\n",
    "        self.b=float(input(\"Enter Length of side 2:\"))\n",
    "        self.c=float(input(\"Enter Length of side 3:\"))\n",
    "#Define class to calculate area\n",
    "class CalculateArea(GetAllSides):\n",
    "    def __init__(self):\n",
    "        GetAllSides.getsides(self)\n",
    "        self.s=(self.a+self.b+self.c)/2\n",
    "#Functino to calculate area        \n",
    "    def area_result(self):\n",
    "        area = (self.s*(self.s-self.a)*(self.s-self.b)*(self.s-self.c))**0.05\n",
    "        return area\n",
    "#Calling subclass        \n",
    "ob1=CalculateArea()\n",
    "#print result\n",
    "print(\"Area of triangale is : {} unitsqr\".format(ob1.area_result(),2))"
   ]
  },
  {
   "cell_type": "markdown",
   "metadata": {},
   "source": [
    "1.2 Write a function filter_long_words() that takes a list of words and an integer n and returns\n",
    "the list of words that are longer than n.\n"
   ]
  },
  {
   "cell_type": "code",
   "execution_count": 7,
   "metadata": {},
   "outputs": [
    {
     "name": "stdout",
     "output_type": "stream",
     "text": [
      "Please enter words for list or type 'STOP'to stop :aa\n",
      "Please enter words for list or type 'STOP'to stop :b\n",
      "Please enter words for list or type 'STOP'to stop :ccc\n",
      "Please enter words for list or type 'STOP'to stop :ddd\n",
      "Please enter words for list or type 'STOP'to stop :eeee\n",
      "Please enter words for list or type 'STOP'to stop :f\n",
      "Please enter words for list or type 'STOP'to stop :STOP\n",
      "please enter maximum length :2\n",
      "Words longer than 2 is ['ccc', 'ddd', 'eeee'] \n"
     ]
    }
   ],
   "source": [
    "#Define Function\n",
    "def filter_long_words(string,length):\n",
    "    result_list=[]\n",
    "    for i in range(len(string)):\n",
    "        if len(string[i]) > length :\n",
    "            result_list.append(string[i])\n",
    "    return result_list\n",
    "#Initialise input list parameter\n",
    "input_list=[]\n",
    "breakpoint=True\n",
    "#Get input from user\n",
    "while(breakpoint):\n",
    "    input_word=input(\"Please enter words for list or type 'STOP'to stop :\")\n",
    "    if (input_word == 'STOP'):\n",
    "        break;\n",
    "    input_list.append(input_word)\n",
    "input_length=int(input(\"please enter maximum length :\"))\n",
    "#Call the function\n",
    "final_list=filter_long_words(input_list,input_length)\n",
    "#Print result\n",
    "print(\"Words longer than {} is {} \".format(input_length,final_list))\n",
    "        "
   ]
  },
  {
   "cell_type": "markdown",
   "metadata": {},
   "source": [
    "<p><p>2.1 Write a Python program using function concept that maps list of words into a list of integers\n",
    "representing the lengths of the corresponding words.</p>\n",
    "\n",
    "<p>Hint: ​If a list [ ab,cde,erty] is passed on to the python function output should come as [2,3,4]</p>\n",
    "<p>Here 2,3 and 4 are the lengths of the words in the list.</p>"
   ]
  },
  {
   "cell_type": "code",
   "execution_count": 9,
   "metadata": {},
   "outputs": [
    {
     "name": "stdout",
     "output_type": "stream",
     "text": [
      "Please enter words for list or type 'STOP'to stop :a\n",
      "Please enter words for list or type 'STOP'to stop :b\n",
      "Please enter words for list or type 'STOP'to stop :c\n",
      "Please enter words for list or type 'STOP'to stop :dd\n",
      "Please enter words for list or type 'STOP'to stop :ff\n",
      "Please enter words for list or type 'STOP'to stop :gggg\n",
      "Please enter words for list or type 'STOP'to stop :gghhh\n",
      "Please enter words for list or type 'STOP'to stop :STOP\n",
      "Lngth Mapping of list ['a', 'b', 'c', 'dd', 'ff', 'gggg', 'gghhh'] is [1, 1, 1, 2, 2, 4, 5] \n"
     ]
    }
   ],
   "source": [
    "#efine function to map lengths\n",
    "def map_lengths(inp_list):\n",
    "    result_list=[]\n",
    "    for i in range(len(inp_list)):\n",
    "        result_list.append(len(inp_list[i]))\n",
    "    return result_list\n",
    "input_list=[]\n",
    "breakpoint=True\n",
    "#Get input from user\n",
    "while(breakpoint):\n",
    "    input_word=input(\"Please enter words for list or type 'STOP'to stop :\")\n",
    "    if (input_word == 'STOP'):\n",
    "        break;\n",
    "    input_list.append(input_word)\n",
    "#Call the function\n",
    "final_list=map_lengths(input_list)\n",
    "#Print result\n",
    "print(\"Lngth Mapping of list {} is {} \".format(input_list,final_list))"
   ]
  },
  {
   "cell_type": "markdown",
   "metadata": {},
   "source": [
    "<p>2.2 Write a Python function which takes a character (i.e. a string of length 1) and returns True if\n",
    "it is a vowel, False otherwise.</p>"
   ]
  },
  {
   "cell_type": "code",
   "execution_count": 2,
   "metadata": {},
   "outputs": [
    {
     "name": "stdout",
     "output_type": "stream",
     "text": [
      "Please enter character to check or type 'STOP'to stop :a\n",
      "True\n",
      "Please enter character to check or type 'STOP'to stop :e\n",
      "True\n",
      "Please enter character to check or type 'STOP'to stop :i\n",
      "True\n",
      "Please enter character to check or type 'STOP'to stop :o\n",
      "True\n",
      "Please enter character to check or type 'STOP'to stop :u\n",
      "True\n",
      "Please enter character to check or type 'STOP'to stop :y\n",
      "False\n",
      "Please enter character to check or type 'STOP'to stop :t\n",
      "False\n",
      "Please enter character to check or type 'STOP'to stop :STOP\n"
     ]
    }
   ],
   "source": [
    "def check_vowels(input_char):\n",
    "    vowel=['A','E','I','O','U','a','e','i','o','u']\n",
    "    if input_char in vowel:\n",
    "        return True\n",
    "    else:\n",
    "        return False\n",
    "#Get input from user\n",
    "breakpoint=True\n",
    "while(breakpoint):\n",
    "    input_char=input(\"Please enter character to check or type 'STOP'to stop :\")\n",
    "    if (input_char == 'STOP'):\n",
    "        break; \n",
    "#Call function to check for vowel\n",
    "    print(check_vowels(input_char))\n"
   ]
  },
  {
   "cell_type": "code",
   "execution_count": null,
   "metadata": {},
   "outputs": [],
   "source": []
  },
  {
   "cell_type": "code",
   "execution_count": null,
   "metadata": {},
   "outputs": [],
   "source": []
  }
 ],
 "metadata": {
  "kernelspec": {
   "display_name": "Python 3",
   "language": "python",
   "name": "python3"
  }
 },
 "nbformat": 4,
 "nbformat_minor": 2
}
